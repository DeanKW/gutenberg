{
 "cells": [
  {
   "cell_type": "code",
   "execution_count": 55,
   "metadata": {},
   "outputs": [],
   "source": [
    "import os\n",
    "import shutil"
   ]
  },
  {
   "cell_type": "markdown",
   "metadata": {},
   "source": [
    "We set the `mirror` and `raw` directories"
   ]
  },
  {
   "cell_type": "code",
   "execution_count": 56,
   "metadata": {},
   "outputs": [],
   "source": [
    "mirror_dir = '../data/mirror/'\n",
    "raw_dir = \"../data/raw/\""
   ]
  },
  {
   "cell_type": "markdown",
   "metadata": {},
   "source": [
    "We traverse the tree directory rooted at `mirror_dir` and copy `.txt` files into `raw_dir`, adding the PG prefix."
   ]
  },
  {
   "cell_type": "code",
   "execution_count": null,
   "metadata": {
    "collapsed": true
   },
   "outputs": [],
   "source": [
    "for dirName, subdirList, fileList in os.walk(mirror_dir):\n",
    "    for fname in fileList:\n",
    "        # ignore strange files...\n",
    "        if len(fname.split(\"-\"))==2:\n",
    "            # get PG number\n",
    "            PGnumber = fname.split(\"-\")[0]\n",
    "\n",
    "            # copy files\n",
    "            source = os.path.join(dirName,fname)\n",
    "            target = os.path.join(raw_dir,\"PG\"+PGnumber+\"_raw.txt\")\n",
    "            shutil.copy2(source,target)"
   ]
  }
 ],
 "metadata": {
  "kernelspec": {
   "display_name": "Python [conda root]",
   "language": "python",
   "name": "conda-root-py"
  },
  "language_info": {
   "codemirror_mode": {
    "name": "ipython",
    "version": 2
   },
   "file_extension": ".py",
   "mimetype": "text/x-python",
   "name": "python",
   "nbconvert_exporter": "python",
   "pygments_lexer": "ipython2",
   "version": "2.7.13"
  }
 },
 "nbformat": 4,
 "nbformat_minor": 2
}
