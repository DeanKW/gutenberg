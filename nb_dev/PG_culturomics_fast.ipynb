{
 "cells": [
  {
   "cell_type": "markdown",
   "metadata": {},
   "source": [
    "# PG-Culturomics-fast\n",
    "Trying to make it faster"
   ]
  },
  {
   "cell_type": "code",
   "execution_count": 95,
   "metadata": {},
   "outputs": [],
   "source": [
    "import pandas as pd\n",
    "import numpy as np\n",
    "from __future__ import division\n",
    "import matplotlib.pyplot as plt\n",
    "%matplotlib inline\n",
    "import seaborn as sns"
   ]
  },
  {
   "cell_type": "code",
   "execution_count": 96,
   "metadata": {},
   "outputs": [],
   "source": [
    "meta = pd.read_csv(\"../metadata/metadata.csv\")\n",
    "meta[\"year\"] = (meta.authoryearofbirth.astype(float)+meta.authoryearofdeath.astype(float))/2\n",
    "meta = meta.loc[~meta.isnull()[\"year\"]]\n",
    "meta = meta.set_index(\"id\")\n",
    "meta = meta.loc[meta.language==\"['en']\"]"
   ]
  },
  {
   "cell_type": "code",
   "execution_count": 97,
   "metadata": {},
   "outputs": [],
   "source": [
    "meta[\"year\"] = meta.year.astype(int)"
   ]
  },
  {
   "cell_type": "code",
   "execution_count": 98,
   "metadata": {},
   "outputs": [
    {
     "data": {
      "text/plain": [
       "(30786, 9)"
      ]
     },
     "execution_count": 98,
     "metadata": {},
     "output_type": "execute_result"
    }
   ],
   "source": [
    "meta.shape"
   ]
  },
  {
   "cell_type": "code",
   "execution_count": 99,
   "metadata": {
    "collapsed": true
   },
   "outputs": [],
   "source": [
    "A=!ls ../data/counts/\n",
    "counted = [x.split(\"_\")[0] for x in A]\n",
    "mybooks = np.intersect1d(meta.index,counted)"
   ]
  },
  {
   "cell_type": "code",
   "execution_count": 100,
   "metadata": {},
   "outputs": [
    {
     "data": {
      "text/plain": [
       "6492"
      ]
     },
     "execution_count": 100,
     "metadata": {},
     "output_type": "execute_result"
    }
   ],
   "source": [
    "len(mybooks)"
   ]
  },
  {
   "cell_type": "code",
   "execution_count": 87,
   "metadata": {},
   "outputs": [
    {
     "name": "stdout",
     "output_type": "stream",
     "text": [
      "CPU times: user 8min 7s, sys: 2.3 s, total: 8min 10s\n",
      "Wall time: 8min 9s\n"
     ]
    }
   ],
   "source": [
    "%%time\n",
    "Bdata = {}\n",
    "for PGnum in mybooks:\n",
    "    b = pd.read_table(\"../data/counts/%s_counts.txt\"%PGnum,names=[\"word\",\"counts\"])\n",
    "    L = b.counts.sum()\n",
    "    yy = 5*int((meta.loc[PGnum].year+2.5)/5)\n",
    "    if yy not in Bdata.keys():\n",
    "        Bdata[yy] = []\n",
    "    for i in b.index:\n",
    "        Bdata[yy].append([\n",
    "            b.loc[i,\"word\"],\n",
    "            b.loc[i,\"counts\"]/L,\n",
    "        ])"
   ]
  },
  {
   "cell_type": "code",
   "execution_count": 90,
   "metadata": {},
   "outputs": [],
   "source": [
    "data = {year:pd.DataFrame(data= df,columns=[\"word\",\"freq\"]).groupby(\"word\").mean() for year,df in Bdata.iteritems()}"
   ]
  },
  {
   "cell_type": "code",
   "execution_count": 94,
   "metadata": {},
   "outputs": [
    {
     "data": {
      "text/plain": [
       "<matplotlib.legend.Legend at 0x7f4536a95710>"
      ]
     },
     "execution_count": 94,
     "metadata": {},
     "output_type": "execute_result"
    },
    {
     "data": {
      "image/png": "[encoded data removed]",
      "text/plain": [
       "<matplotlib.figure.Figure at 0x7f4536784e10>"
      ]
     },
     "metadata": {},
     "output_type": "display_data"
    }
   ],
   "source": [
    "wordlist = [\"best\",\"big\"]\n",
    "for word in wordlist:\n",
    "\n",
    "    a = np.array([\n",
    "        [year,(lambda x:df.loc[x,\"freq\"] if x in df.index else np.nan)(word)] for year,df in data.iteritems() if year>=1750\n",
    "    \n",
    "    ]).T\n",
    "    a = a.T[a[0].argsort()].T\n",
    "\n",
    "    plt.plot(*a,label=word)\n",
    "plt.yscale(\"log\")\n",
    "plt.legend()\n"
   ]
  },
  {
   "cell_type": "code",
   "execution_count": null,
   "metadata": {},
   "outputs": [],
   "source": []
  },
  {
   "cell_type": "code",
   "execution_count": null,
   "metadata": {
    "collapsed": true
   },
   "outputs": [],
   "source": []
  }
 ],
 "metadata": {
  "kernelspec": {
   "display_name": "Python 2",
   "language": "python",
   "name": "python2"
  },
  "language_info": {
   "codemirror_mode": {
    "name": "ipython",
    "version": 2
   },
   "file_extension": ".py",
   "mimetype": "text/x-python",
   "name": "python",
   "nbconvert_exporter": "python",
   "pygments_lexer": "ipython2",
   "version": "2.7.12"
  }
 },
 "nbformat": 4,
 "nbformat_minor": 2
}
